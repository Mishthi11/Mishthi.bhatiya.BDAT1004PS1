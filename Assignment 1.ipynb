{
 "cells": [
  {
   "cell_type": "markdown",
   "id": "8ec19f1a",
   "metadata": {},
   "source": [
    "## Name : Aditya Koshti\n",
    "## Course : BDAT 1004\n",
    "## Professor : Ethan D. Davis"
   ]
  },
  {
   "cell_type": "markdown",
   "id": "38d269f9",
   "metadata": {},
   "source": [
    "## Question 1 : What data type is each of the following (evaluate when necessary):"
   ]
  },
  {
   "cell_type": "code",
   "execution_count": 4,
   "id": "aac80bfa",
   "metadata": {},
   "outputs": [
    {
     "data": {
      "text/plain": [
       "int"
      ]
     },
     "execution_count": 4,
     "metadata": {},
     "output_type": "execute_result"
    }
   ],
   "source": [
    "#1\n",
    "type(5)"
   ]
  },
  {
   "cell_type": "code",
   "execution_count": 5,
   "id": "4faadb7a",
   "metadata": {},
   "outputs": [
    {
     "data": {
      "text/plain": [
       "float"
      ]
     },
     "execution_count": 5,
     "metadata": {},
     "output_type": "execute_result"
    }
   ],
   "source": [
    "#2\n",
    "type(5.0)"
   ]
  },
  {
   "cell_type": "code",
   "execution_count": 6,
   "id": "20463df9",
   "metadata": {},
   "outputs": [
    {
     "data": {
      "text/plain": [
       "bool"
      ]
     },
     "execution_count": 6,
     "metadata": {},
     "output_type": "execute_result"
    }
   ],
   "source": [
    "#3\n",
    "type(5 > 1)"
   ]
  },
  {
   "cell_type": "code",
   "execution_count": 7,
   "id": "a0477fe3",
   "metadata": {},
   "outputs": [
    {
     "data": {
      "text/plain": [
       "str"
      ]
     },
     "execution_count": 7,
     "metadata": {},
     "output_type": "execute_result"
    }
   ],
   "source": [
    "#4\n",
    "type('5')"
   ]
  },
  {
   "cell_type": "code",
   "execution_count": 8,
   "id": "2748e6b2",
   "metadata": {},
   "outputs": [
    {
     "data": {
      "text/plain": [
       "int"
      ]
     },
     "execution_count": 8,
     "metadata": {},
     "output_type": "execute_result"
    }
   ],
   "source": [
    "#5\n",
    "type(5*2)"
   ]
  },
  {
   "cell_type": "code",
   "execution_count": 9,
   "id": "8646adc4",
   "metadata": {},
   "outputs": [
    {
     "data": {
      "text/plain": [
       "str"
      ]
     },
     "execution_count": 9,
     "metadata": {},
     "output_type": "execute_result"
    }
   ],
   "source": [
    "#6\n",
    "type('5' * 2)"
   ]
  },
  {
   "cell_type": "code",
   "execution_count": 10,
   "id": "771f2c38",
   "metadata": {},
   "outputs": [
    {
     "data": {
      "text/plain": [
       "str"
      ]
     },
     "execution_count": 10,
     "metadata": {},
     "output_type": "execute_result"
    }
   ],
   "source": [
    "#7\n",
    "type('5' + '2')"
   ]
  },
  {
   "cell_type": "code",
   "execution_count": 11,
   "id": "60fd018c",
   "metadata": {},
   "outputs": [
    {
     "data": {
      "text/plain": [
       "float"
      ]
     },
     "execution_count": 11,
     "metadata": {},
     "output_type": "execute_result"
    }
   ],
   "source": [
    "#8\n",
    "type(5/2)"
   ]
  },
  {
   "cell_type": "code",
   "execution_count": 12,
   "id": "3d9eb6d6",
   "metadata": {},
   "outputs": [
    {
     "data": {
      "text/plain": [
       "int"
      ]
     },
     "execution_count": 12,
     "metadata": {},
     "output_type": "execute_result"
    }
   ],
   "source": [
    "#9\n",
    "type(5%2)"
   ]
  },
  {
   "cell_type": "code",
   "execution_count": 13,
   "id": "aa11b598",
   "metadata": {},
   "outputs": [
    {
     "data": {
      "text/plain": [
       "set"
      ]
     },
     "execution_count": 13,
     "metadata": {},
     "output_type": "execute_result"
    }
   ],
   "source": [
    "#10\n",
    "type({5,2,1})"
   ]
  },
  {
   "cell_type": "code",
   "execution_count": 14,
   "id": "efaee2a2",
   "metadata": {},
   "outputs": [
    {
     "data": {
      "text/plain": [
       "bool"
      ]
     },
     "execution_count": 14,
     "metadata": {},
     "output_type": "execute_result"
    }
   ],
   "source": [
    "#11\n",
    "type(5==3)"
   ]
  },
  {
   "cell_type": "code",
   "execution_count": 16,
   "id": "68a72373",
   "metadata": {},
   "outputs": [
    {
     "data": {
      "text/plain": [
       "float"
      ]
     },
     "execution_count": 16,
     "metadata": {},
     "output_type": "execute_result"
    }
   ],
   "source": [
    "#12\n",
    "type(3.14)"
   ]
  },
  {
   "cell_type": "markdown",
   "id": "af943697",
   "metadata": {},
   "source": [
    "## Question 2 : Write and evaluate the python expressions that answer these questions:"
   ]
  },
  {
   "cell_type": "code",
   "execution_count": 19,
   "id": "0d75f4bd",
   "metadata": {},
   "outputs": [
    {
     "name": "stdout",
     "output_type": "stream",
     "text": [
      "34\n"
     ]
    }
   ],
   "source": [
    "#A How many letters are there in the word 'Supercalifragilisticexpialidociuos'\n",
    "print(len('Supercalifragilisticexpialidociuos'))"
   ]
  },
  {
   "cell_type": "code",
   "execution_count": 21,
   "id": "bc27bb59",
   "metadata": {},
   "outputs": [
    {
     "name": "stdout",
     "output_type": "stream",
     "text": [
      "Yes, the substring is found in the word.\n"
     ]
    }
   ],
   "source": [
    "#B Does'Supercalifragilisticexpialidociuos' contain 'ice' as a substring?\n",
    "word = \"Supercalifragilisticexpialidociuos\"\n",
    "substring = \"ice\"\n",
    "\n",
    "if substring in word:\n",
    "    print(\"Yes, the substring is found in the word.\")"
   ]
  },
  {
   "cell_type": "code",
   "execution_count": 84,
   "id": "05073bee",
   "metadata": {},
   "outputs": [
    {
     "name": "stdout",
     "output_type": "stream",
     "text": [
      "Supercalifragilisticexpialidocious is the longest\n"
     ]
    }
   ],
   "source": [
    "#C Which of the following words is the longest: Supercalifragilisticexpialidocious, Honorificabilitudinitatibus, or Bababadalgharaghtakamminarronnkonn?  \n",
    "a=\"Supercalifragilisticexpialidocious\"\n",
    "b=\"Honorificabilitudinitatibus\"\n",
    "c=\"Bababadalgharaghtakamminarronnkonn\"\n",
    "word1 = len(a)\n",
    "word2 = len(b)\n",
    "word3 = len(c)\n",
    "\n",
    "if word1 > word2 and word3:\n",
    "    print(a + \" is the longest\")\n",
    "elif word2>word1 and word3:\n",
    "    print(b + \"is the longest\")\n",
    "elif word3>word1 and word2:\n",
    "    print(c + \"is the longest\")"
   ]
  },
  {
   "cell_type": "code",
   "execution_count": 83,
   "id": "3bb9313d",
   "metadata": {},
   "outputs": [
    {
     "name": "stdout",
     "output_type": "stream",
     "text": [
      "['Bartok', 'Bellini', 'Berlioz', 'Bernstein', 'Borodin', 'Brian', 'Buxtehude']\n",
      "First =  Bartok\n",
      "Last =  Buxtehude\n"
     ]
    }
   ],
   "source": [
    "#D Which composer comes first in the dictionary: 'Berlioz', 'Borodin', 'Brian', 'Bartok', 'Bellini', 'Buxtehude', 'Bernstein'. Which one comes last?\n",
    "composers = [\"Berlioz\", \"Borodin\", \"Brian\", \"Bartok\", \"Bellini\", \"Buxtehude\", \"Bernstein\"]\n",
    "sortedComposers = sorted(composers)\n",
    "print(sortedComposers)\n",
    "first = print(\"First = \",sortedComposers[0])\n",
    "last = print(\"Last = \",sortedComposers[-1])"
   ]
  },
  {
   "cell_type": "markdown",
   "id": "7f224d2d",
   "metadata": {},
   "source": [
    "## Question 3 : Implement function triangleArea(a,b,c) that takes as input the lengths of the 3 sides of a triangle and returns the area of the triangle. By Heron's formula, the area of a triangle with side lengths a, b, and c is   s(s-a)(s-b)(s-c), where   s=(a+b+c)/2.   >>> triangleArea(2,2,2) 1.7320508075688772 "
   ]
  },
  {
   "cell_type": "code",
   "execution_count": 97,
   "id": "5667bb93",
   "metadata": {},
   "outputs": [
    {
     "name": "stdout",
     "output_type": "stream",
     "text": [
      "Enter the lenght of side a: 12\n",
      "Enter the lenght of side b: 10\n",
      "Enter the lenght of side c: 8\n",
      "39.68626966596886\n"
     ]
    }
   ],
   "source": [
    "side_a = int(input(\"Enter the lenght of side a: \"))\n",
    "side_b = int(input(\"Enter the lenght of side b: \"))\n",
    "side_c = int(input(\"Enter the lenght of side c: \"))\n",
    "\n",
    "s = float(((side_a + side_b + side_c)/2))\n",
    "\n",
    "areaOfTriangle = float((s*(s-side_a)*(s-side_b)*(s-side_c))**0.5)\n",
    "print(areaOfTriangle)"
   ]
  },
  {
   "cell_type": "markdown",
   "id": "0603386c",
   "metadata": {},
   "source": [
    "## Question 4 : Write a program in python to separate odd and even integers in separate arrays."
   ]
  },
  {
   "cell_type": "code",
   "execution_count": 109,
   "id": "57fe8d62",
   "metadata": {},
   "outputs": [
    {
     "name": "stdout",
     "output_type": "stream",
     "text": [
      "Enter the numbers:5\n",
      "element - 0 : 25\n",
      "element - 1 : 47\n",
      "element - 2 : 42\n",
      "element - 3 : 56\n",
      "element - 4 : 32\n",
      "Odd numbers: [25, 47]\n",
      "Even numbers: [42, 56, 32]\n"
     ]
    }
   ],
   "source": [
    "n = int(input(\"Enter the numbers:\"))\n",
    "\n",
    "odd_no = []\n",
    "even_no = []\n",
    "\n",
    "for i in range(n):\n",
    "    element = int(input(\"element - {} : \".format(i)))\n",
    "    if element % 2 == 0:\n",
    "        even_no.append(element)\n",
    "    else:\n",
    "        odd_no.append(element)\n",
    "        \n",
    "print(\"Odd numbers:\",odd_no)\n",
    "print(\"Even numbers:\",even_no)"
   ]
  },
  {
   "cell_type": "markdown",
   "id": "0abe5a18",
   "metadata": {},
   "source": [
    "## Question 5 "
   ]
  },
  {
   "cell_type": "code",
   "execution_count": 2,
   "id": "ea7545f2",
   "metadata": {},
   "outputs": [],
   "source": [
    "#A Write a function inside(x,y,x1,y1,x2,y2) that returns True or False depending on whether the point (x,y) lies in the rectangle with lower left corner (x1,y1) and upper right corner (x2,y2).  >>> inside(1,1,0,0,2,3) True >>> inside(-1,-1,0,0,2,3) False \n",
    "\n",
    "def inside(x, y, x1, y1, x2, y2):\n",
    "    if x1 <= x <= x2 and y1 <= y <= y2:\n",
    "        return True\n",
    "    else:\n",
    "        return False"
   ]
  },
  {
   "cell_type": "code",
   "execution_count": 3,
   "id": "b55e6273",
   "metadata": {},
   "outputs": [
    {
     "name": "stdout",
     "output_type": "stream",
     "text": [
      "False\n"
     ]
    }
   ],
   "source": [
    "print(inside(-1,-1,0,0,2,3)) "
   ]
  },
  {
   "cell_type": "code",
   "execution_count": 4,
   "id": "8df7a81e",
   "metadata": {},
   "outputs": [
    {
     "name": "stdout",
     "output_type": "stream",
     "text": [
      "True\n"
     ]
    }
   ],
   "source": [
    "print(inside(1,1,0,0,2,3))"
   ]
  },
  {
   "cell_type": "code",
   "execution_count": 6,
   "id": "a5e5b0ac",
   "metadata": {},
   "outputs": [
    {
     "name": "stdout",
     "output_type": "stream",
     "text": [
      "False\n"
     ]
    }
   ],
   "source": [
    "#B Use function inside() from part a. to write an expression that tests whether the point (1,1) lies in both of the following rectangles: one with lower left corner (0.3, 0.5) and upper right corner (1.1, 0.7) and the other with lower left corner (0.5, 0.2) and upper right corner (1.1, 2).\n",
    "\n",
    "# function inside() \n",
    "def inside(x, y, x1, y1, x2, y2):\n",
    "    if x1 <= x <= x2 and y1 <= y <= y2:\n",
    "        return True\n",
    "    else:\n",
    "        return False\n",
    "\n",
    "# Using the inside() function\n",
    "x, y = 1, 1\n",
    "rectangle_1 = inside(x, y, 0.3, 0.5, 1.1, 0.7)\n",
    "rectangle_2 = inside(x, y, 0.5, 0.2, 1.1, 2)\n",
    "result = rectangle_1 and rectangle_2\n",
    "print(result)\n"
   ]
  },
  {
   "cell_type": "markdown",
   "id": "a786da67",
   "metadata": {},
   "source": [
    "## Question 6"
   ]
  },
  {
   "cell_type": "code",
   "execution_count": 9,
   "id": "5190ae99",
   "metadata": {},
   "outputs": [
    {
     "name": "stdout",
     "output_type": "stream",
     "text": [
      "The output is:\n",
      "appyhay\n",
      "enterway\n",
      "==========================================================\n"
     ]
    }
   ],
   "source": [
    "vowel_letter=('a','e','i','o','u') \n",
    "def Pig_Latin(word):\n",
    "    if(word[0].lower() in vowel_letter):  #checking for vowels in first letter\n",
    "        print(word.lower()+'way')\n",
    "    else:\n",
    "        print(word[1:].lower()+word[0].lower()+'ay') \n",
    "print(\"The output is:\")\n",
    "Pig_Latin('happy')\n",
    "Pig_Latin('Enter')\n",
    "print(\"==========================================================\")"
   ]
  },
  {
   "cell_type": "markdown",
   "id": "46645763",
   "metadata": {},
   "source": [
    "## Question 7"
   ]
  },
  {
   "cell_type": "code",
   "execution_count": 10,
   "id": "d25f492e",
   "metadata": {},
   "outputs": [
    {
     "name": "stdout",
     "output_type": "stream",
     "text": [
      "The Output is:\n",
      "There are 15 patients of blood type A.\n",
      "There is one patient of blood type B.\n",
      "There are 13 patients of blood type AB.\n",
      "There are 15 patients of blood type O.\n",
      "There are no patients of blood type OO.\n",
      "==========================================================\n"
     ]
    }
   ],
   "source": [
    "def bloodcount():\n",
    "    infile = open('bloodtype1.txt','r')\n",
    "    info=infile.read()\n",
    "    result=info.split()\n",
    "    bloodCount_A(result.count(\"A\"))          #each function will count the value of patients on the basis of bloodgroups.\n",
    "    bloodCount_B(result.count(\"B\"))          #if, elif, else will trigger on the basis of count of the patients.\n",
    "    bloodCount_AB(result.count(\"AB\"))\n",
    "    bloodCount_O(result.count(\"O\"))\n",
    "    bloodCount_OO(result.count(\"OO\"))\n",
    "    infile.close()\n",
    "def bloodCount_A(countA):\n",
    "    if(countA==0):\n",
    "        print('There are no patients of blood type A.')\n",
    "    elif(countA==1):\n",
    "        print(\"There is one patient of blood type A.\")\n",
    "    else:\n",
    "        print(\"There are \" + str(countA) + \" patients of blood type A.\")\n",
    "def bloodCount_B(countB):\n",
    "    if(countB==0):\n",
    "        print('There are no patients of blood type B.')\n",
    "    elif(countB==1):\n",
    "        print(\"There is one patient of blood type B.\")\n",
    "    else:\n",
    "        print(\"There are \" + str(countB) + \" patients of blood type B.\")\n",
    "def bloodCount_AB(countAB):\n",
    "    if(countAB==0):\n",
    "        print('There are no patients of blood type AB.')\n",
    "    elif(countAB==1):\n",
    "        print(\"There is one patient of blood type AB.\")\n",
    "    else:\n",
    "        print(\"There are \" + str(countAB) + \" patients of blood type AB.\")\n",
    "def bloodCount_O(countO):\n",
    "    if(countO==0):\n",
    "         print('There are no patients of blood type O.')\n",
    "    elif(countO==1):\n",
    "        print(\"There is one patient of blood type O.\")\n",
    "    else:\n",
    "        print(\"There are \" + str(countO) + \" patients of blood type O.\")\n",
    "def bloodCount_OO(countOO):\n",
    "    if(countOO==0):\n",
    "        print('There are no patients of blood type OO.')\n",
    "    elif(countOO==1):\n",
    "        print(\"There is one patient of blood type OO.\")\n",
    "    else:\n",
    "         print(\"There are \" + str(countOO) + \" patients of blood type OO.\")\n",
    "            \n",
    "print(\"The Output is:\")\n",
    "bloodcount()\n",
    "print(\"==========================================================\")"
   ]
  },
  {
   "cell_type": "markdown",
   "id": "3f7680af",
   "metadata": {},
   "source": [
    "## Question 8"
   ]
  },
  {
   "cell_type": "code",
   "execution_count": 11,
   "id": "25033b32",
   "metadata": {},
   "outputs": [
    {
     "name": "stdout",
     "output_type": "stream",
     "text": [
      "Enter the currency :122.96544\n",
      "Enter the currency :1.241401\n"
     ]
    }
   ],
   "source": [
    "currencyEUR= input('Enter the currency :')    ## input for the Euro currency\n",
    "currencyJPY= input('Enter the currency :')    ## input for Japanese currency\n"
   ]
  },
  {
   "cell_type": "code",
   "execution_count": 14,
   "id": "3c21d2cb",
   "metadata": {},
   "outputs": [
    {
     "name": "stdout",
     "output_type": "stream",
     "text": [
      "The output is:\n",
      "==========================================================\n"
     ]
    }
   ],
   "source": [
    "def currconv(curr,conv):             # function which takes 2 args one as a currency rate and other as exchange value\n",
    "    infile=open('currencies.txt')\n",
    "    info= infile.read()\n",
    "    result=info.split()         # splitting values with ,\n",
    "    #print(info)\n",
    "    #print(result)\n",
    "    infile.close()\n",
    "    if(curr in result):\n",
    "        pos = result.index(curr) + 1       # finding the next position(index) of the required currency\n",
    "        conv = float(result[pos]) * conv   # Accessing that value at particular index and converting to USD\n",
    "        print('Your converted currency in US dollars from ' + curr + ' : ' + str(conv))\n",
    "print(\"The output is:\")\n",
    "currconv(currencyEUR,100)\n",
    "currconv(currencyJPY,100)\n",
    "print(\"==========================================================\")"
   ]
  },
  {
   "cell_type": "markdown",
   "id": "721563b2",
   "metadata": {},
   "source": [
    "## Question 9"
   ]
  },
  {
   "cell_type": "code",
   "execution_count": 17,
   "id": "c679a979",
   "metadata": {},
   "outputs": [
    {
     "ename": "TypeError",
     "evalue": "unsupported operand type(s) for +: 'int' and 'str'",
     "output_type": "error",
     "traceback": [
      "\u001b[1;31m---------------------------------------------------------------------------\u001b[0m",
      "\u001b[1;31mTypeError\u001b[0m                                 Traceback (most recent call last)",
      "\u001b[1;32m~\\AppData\\Local\\Temp\\ipykernel_16620\\366006789.py\u001b[0m in \u001b[0;36m<module>\u001b[1;34m\u001b[0m\n\u001b[1;32m----> 1\u001b[1;33m \u001b[0ma\u001b[0m \u001b[1;33m=\u001b[0m \u001b[0mint\u001b[0m\u001b[1;33m(\u001b[0m\u001b[1;36m6\u001b[0m\u001b[1;33m)\u001b[0m \u001b[1;33m+\u001b[0m \u001b[1;34m'a'\u001b[0m\u001b[1;33m;\u001b[0m\u001b[1;33m\u001b[0m\u001b[1;33m\u001b[0m\u001b[0m\n\u001b[0m\u001b[0;32m      2\u001b[0m \u001b[0mprint\u001b[0m\u001b[1;33m(\u001b[0m\u001b[0ma\u001b[0m\u001b[1;33m)\u001b[0m\u001b[1;33m\u001b[0m\u001b[1;33m\u001b[0m\u001b[0m\n",
      "\u001b[1;31mTypeError\u001b[0m: unsupported operand type(s) for +: 'int' and 'str'"
     ]
    }
   ],
   "source": [
    "a = 6 + 'a';\n",
    "print(a)\n"
   ]
  },
  {
   "cell_type": "code",
   "execution_count": 18,
   "id": "94a86faf",
   "metadata": {},
   "outputs": [
    {
     "ename": "IndexError",
     "evalue": "list index out of range",
     "output_type": "error",
     "traceback": [
      "\u001b[1;31m---------------------------------------------------------------------------\u001b[0m",
      "\u001b[1;31mIndexError\u001b[0m                                Traceback (most recent call last)",
      "\u001b[1;32m~\\AppData\\Local\\Temp\\ipykernel_16620\\1819191975.py\u001b[0m in \u001b[0;36m<module>\u001b[1;34m\u001b[0m\n\u001b[0;32m      1\u001b[0m \u001b[0ma\u001b[0m \u001b[1;33m=\u001b[0m \u001b[1;33m[\u001b[0m\u001b[1;36m1\u001b[0m\u001b[1;33m,\u001b[0m\u001b[1;36m2\u001b[0m\u001b[1;33m,\u001b[0m\u001b[1;36m3\u001b[0m\u001b[1;33m,\u001b[0m\u001b[1;36m4\u001b[0m\u001b[1;33m,\u001b[0m\u001b[1;36m5\u001b[0m\u001b[1;33m,\u001b[0m\u001b[1;36m6\u001b[0m\u001b[1;33m,\u001b[0m\u001b[1;36m7\u001b[0m\u001b[1;33m,\u001b[0m\u001b[1;36m8\u001b[0m\u001b[1;33m,\u001b[0m\u001b[1;36m9\u001b[0m\u001b[1;33m,\u001b[0m\u001b[1;36m10\u001b[0m\u001b[1;33m]\u001b[0m\u001b[1;33m;\u001b[0m\u001b[1;33m\u001b[0m\u001b[1;33m\u001b[0m\u001b[0m\n\u001b[1;32m----> 2\u001b[1;33m \u001b[0mprint\u001b[0m\u001b[1;33m(\u001b[0m\u001b[0ma\u001b[0m\u001b[1;33m[\u001b[0m\u001b[1;36m12\u001b[0m\u001b[1;33m]\u001b[0m\u001b[1;33m)\u001b[0m\u001b[1;33m\u001b[0m\u001b[1;33m\u001b[0m\u001b[0m\n\u001b[0m",
      "\u001b[1;31mIndexError\u001b[0m: list index out of range"
     ]
    }
   ],
   "source": [
    "a = [1,2,3,4,5,6,7,8,9,10];\n",
    "print(a[12])"
   ]
  },
  {
   "cell_type": "code",
   "execution_count": 19,
   "id": "6dc7586e",
   "metadata": {},
   "outputs": [
    {
     "ename": "ValueError",
     "evalue": "math domain error",
     "output_type": "error",
     "traceback": [
      "\u001b[1;31m---------------------------------------------------------------------------\u001b[0m",
      "\u001b[1;31mValueError\u001b[0m                                Traceback (most recent call last)",
      "\u001b[1;32m~\\AppData\\Local\\Temp\\ipykernel_16620\\420012812.py\u001b[0m in \u001b[0;36m<module>\u001b[1;34m\u001b[0m\n\u001b[0;32m      1\u001b[0m \u001b[1;32mimport\u001b[0m \u001b[0mmath\u001b[0m\u001b[1;33m\u001b[0m\u001b[1;33m\u001b[0m\u001b[0m\n\u001b[1;32m----> 2\u001b[1;33m \u001b[0mprint\u001b[0m\u001b[1;33m(\u001b[0m\u001b[0mmath\u001b[0m\u001b[1;33m.\u001b[0m\u001b[0msqrt\u001b[0m\u001b[1;33m(\u001b[0m\u001b[1;33m-\u001b[0m\u001b[1;36m1\u001b[0m\u001b[1;33m)\u001b[0m\u001b[1;33m)\u001b[0m\u001b[1;33m\u001b[0m\u001b[1;33m\u001b[0m\u001b[0m\n\u001b[0m",
      "\u001b[1;31mValueError\u001b[0m: math domain error"
     ]
    }
   ],
   "source": [
    "import math\n",
    "print(math.sqrt(-1))"
   ]
  },
  {
   "cell_type": "code",
   "execution_count": 20,
   "id": "3d2db94a",
   "metadata": {},
   "outputs": [
    {
     "name": "stdout",
     "output_type": "stream",
     "text": [
      "1\n"
     ]
    }
   ],
   "source": [
    "print(x)"
   ]
  },
  {
   "cell_type": "code",
   "execution_count": 24,
   "id": "7d86c4cc",
   "metadata": {},
   "outputs": [
    {
     "ename": "FileNotFoundError",
     "evalue": "[Errno 2] No such file or directory: 'currences.txt'",
     "output_type": "error",
     "traceback": [
      "\u001b[1;31m---------------------------------------------------------------------------\u001b[0m",
      "\u001b[1;31mFileNotFoundError\u001b[0m                         Traceback (most recent call last)",
      "\u001b[1;32m~\\AppData\\Local\\Temp\\ipykernel_16620\\1861610328.py\u001b[0m in \u001b[0;36m<module>\u001b[1;34m\u001b[0m\n\u001b[1;32m----> 1\u001b[1;33m \u001b[0minfile\u001b[0m\u001b[1;33m=\u001b[0m\u001b[0mopen\u001b[0m\u001b[1;33m(\u001b[0m\u001b[1;34m'currences.txt'\u001b[0m\u001b[1;33m)\u001b[0m\u001b[1;33m\u001b[0m\u001b[1;33m\u001b[0m\u001b[0m\n\u001b[0m\u001b[0;32m      2\u001b[0m \u001b[0minfo\u001b[0m\u001b[1;33m=\u001b[0m \u001b[0minfile\u001b[0m\u001b[1;33m.\u001b[0m\u001b[0mread\u001b[0m\u001b[1;33m(\u001b[0m\u001b[1;33m)\u001b[0m\u001b[1;33m\u001b[0m\u001b[1;33m\u001b[0m\u001b[0m\n",
      "\u001b[1;31mFileNotFoundError\u001b[0m: [Errno 2] No such file or directory: 'currences.txt'"
     ]
    }
   ],
   "source": [
    "infile=open('currences.txt')\n",
    "info= infile.read()"
   ]
  },
  {
   "cell_type": "markdown",
   "id": "a14dab5c",
   "metadata": {},
   "source": [
    "## Question 10"
   ]
  },
  {
   "cell_type": "code",
   "execution_count": 22,
   "id": "d0834049",
   "metadata": {},
   "outputs": [
    {
     "name": "stdout",
     "output_type": "stream",
     "text": [
      "The Output is:-\n",
      "1,1,1,3,5,1,1,2,1,0,1,0,1,2,4,0,1,2,0,2,1,0,1,1,0,0,\n",
      "\n",
      "1,0,0,0,1,0,0,0,0,0,0,1,0,0,0,2,0,0,0,0,0,0,0,0,0,0,\n",
      "\n",
      "==========================================================\n"
     ]
    }
   ],
   "source": [
    "def length(word):\n",
    "    lst=['a','b','c','d','e','f','g','h','i','j','k','l','m','n','o','p','q','r','s','t','u','v','w','x','y','z']\n",
    "    inputWord= word\n",
    "    Length_lst=len(lst)     # couting length of a list\n",
    "    for i in range(0,Length_lst):       # range has been set till the lenth of a list\n",
    "        data= inputWord.count(lst[i])   # couning each occurance of a letter from a sentence on the basis of a list\n",
    "        lst1 = str(data)\n",
    "        print(lst1,end= \",\" )\n",
    "        \n",
    "print(\"The Output is:-\")\n",
    "length('The quick red fox got bored and went home.')\n",
    "print(\"\\n\")\n",
    "length('apple')\n",
    "print(\"\\n\")\n",
    "print(\"==========================================================\")"
   ]
  }
 ],
 "metadata": {
  "kernelspec": {
   "display_name": "Python 3 (ipykernel)",
   "language": "python",
   "name": "python3"
  },
  "language_info": {
   "codemirror_mode": {
    "name": "ipython",
    "version": 3
   },
   "file_extension": ".py",
   "mimetype": "text/x-python",
   "name": "python",
   "nbconvert_exporter": "python",
   "pygments_lexer": "ipython3",
   "version": "3.9.13"
  }
 },
 "nbformat": 4,
 "nbformat_minor": 5
}
